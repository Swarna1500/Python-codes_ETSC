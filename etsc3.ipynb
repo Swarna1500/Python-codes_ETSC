{
 "cells": [
  {
   "cell_type": "code",
   "execution_count": null,
   "metadata": {
    "colab": {
     "base_uri": "https://localhost:8080/"
    },
    "id": "xGaIWCCp551O",
    "outputId": "16e97302-97aa-40a3-904b-674ff41e32b7"
   },
   "outputs": [
    {
     "name": "stdout",
     "output_type": "stream",
     "text": [
      "4\n",
      "[1, 24, 76]\n",
      "['red', 'yellow', 'blue']\n",
      "['red', 24, 98.6]\n",
      "[1, [5, 6], 7]\n",
      "[]\n",
      "5\n",
      "4\n",
      "3\n",
      "2\n",
      "1\n",
      "Blastoff!\n",
      "Happy New Year:\n",
      "Happy New Year:\n",
      "Happy New Year:\n",
      "Done!\n",
      "Glenn\n",
      "banana\n",
      "[2, 14, 26, 41, 63, 'Swarnali']\n",
      "[2, 14, 28, 41, 63, 'Swarnali']\n",
      "[2, 14, 28, 41, 63, 'New']\n",
      "[2, 14, 28, 41, 63, 5]\n"
     ]
    }
   ],
   "source": [
    "friends = ['Joseph','Glenn','Sally']  # collections\n",
    "carryon=['socks','shirt','perfume']\n",
    "\n",
    "x=2\n",
    "x=\"Hello\"\n",
    "x=4\n",
    "print (x)\n",
    "\n",
    "print([1,24,76])\n",
    "print(['red','yellow','blue'])\n",
    "print(['red', 24, 98.6])\n",
    "print([1,[5,6],7])\n",
    "print([])\n",
    "\n",
    "for i in [5,4,3,2,1]:\n",
    "  print (i)\n",
    "print ('Blastoff!')\n",
    "\n",
    "friends = ['Joseph','Glenn','Sally']\n",
    "for friend in friends:\n",
    "  print ('Happy New Year:'),friend\n",
    "print ('Done!')\n",
    "\n",
    "print (friends[1])\n",
    "\n",
    "fruit = 'Banana'\n",
    "#fruit[0]='b' #tampering 1st element of a string gives error it is immutable\n",
    "x= fruit.lower()\n",
    "print(x)\n",
    "\n",
    "lotto = [2,14,26,41,63, \"Swarnali\"]\n",
    "print (lotto)\n",
    "\n",
    "lotto[2] = 28 # tamper in list\n",
    "print(lotto)\n",
    "\n",
    "lotto[5] = \"New\"\n",
    "print(lotto)\n",
    "\n",
    "lotto[5] = 5\n",
    "print(lotto)"
   ]
  },
  {
   "cell_type": "code",
   "execution_count": null,
   "metadata": {
    "colab": {
     "base_uri": "https://localhost:8080/"
    },
    "id": "9G9vkWD5_8MZ",
    "outputId": "0db6193b-4980-42b1-e5fd-677e55477d18"
   },
   "outputs": [
    {
     "name": "stdout",
     "output_type": "stream",
     "text": [
      "10\n",
      "4\n"
     ]
    }
   ],
   "source": [
    "greet = ' Hello Bob'\n",
    "print(len(greet))\n",
    "\n",
    "x = [1,2, 'joe', 99]\n",
    "print(len(x))"
   ]
  },
  {
   "cell_type": "code",
   "execution_count": null,
   "metadata": {
    "colab": {
     "base_uri": "https://localhost:8080/"
    },
    "id": "B0w-d4pmAcJM",
    "outputId": "91189e9d-6fcd-4a0a-e937-b54b2082430a"
   },
   "outputs": [
    {
     "name": "stdout",
     "output_type": "stream",
     "text": [
      "range(0, 4)\n"
     ]
    }
   ],
   "source": [
    "print(range(4)) # prints 1 to 4"
   ]
  },
  {
   "cell_type": "code",
   "execution_count": null,
   "metadata": {
    "colab": {
     "base_uri": "https://localhost:8080/"
    },
    "id": "jUIHoFAyBZPP",
    "outputId": "55f3fd62-dc6d-4b6e-a99b-6e9b62780228"
   },
   "outputs": [
    {
     "name": "stdout",
     "output_type": "stream",
     "text": [
      "Happy New Year: Joseph\n",
      "Happy New Year: Glenn\n",
      "Happy New Year: Sally\n"
     ]
    }
   ],
   "source": [
    "friends = ['Joseph','Glenn','Sally']\n",
    "for i in range(len(friends)):\n",
    "  friend = friends[i]\n",
    "  print ('Happy New Year:', friend)"
   ]
  },
  {
   "cell_type": "code",
   "execution_count": null,
   "metadata": {
    "colab": {
     "base_uri": "https://localhost:8080/"
    },
    "id": "qMIgDd8BCHM9",
    "outputId": "dff97283-232b-4410-c7ff-bd6b5e3fd929"
   },
   "outputs": [
    {
     "name": "stdout",
     "output_type": "stream",
     "text": [
      "[1, 2, 3, 4, 5, 6]\n",
      "[1, 2, 3, 4, 5, 6, 7, 8]\n"
     ]
    }
   ],
   "source": [
    "a = [1,2,3]\n",
    "b = [4,5,6]\n",
    "d=[7,8]\n",
    "c = a+b\n",
    "print (c)\n",
    "e = c+d\n",
    "print(e)"
   ]
  },
  {
   "cell_type": "code",
   "execution_count": null,
   "metadata": {
    "colab": {
     "base_uri": "https://localhost:8080/"
    },
    "id": "-ePdVHpKCr3y",
    "outputId": "a2e0d8ec-94f4-4017-fbab-f268e57c90bf"
   },
   "outputs": [
    {
     "data": {
      "text/plain": [
       "[9, 12, 74]"
      ]
     },
     "execution_count": 33,
     "metadata": {},
     "output_type": "execute_result"
    }
   ],
   "source": [
    "#Slicing operation\n",
    "\n",
    "t = [9,41,12,3,74,15]\n",
    "t[1:3]\n",
    "\n",
    "t[:4]\n",
    "\n",
    "t[3:]\n",
    "\n",
    "t[:]\n",
    "\n",
    "# skip alternate numbers\n",
    "\n",
    "t[::2]"
   ]
  },
  {
   "cell_type": "code",
   "execution_count": null,
   "metadata": {
    "colab": {
     "base_uri": "https://localhost:8080/"
    },
    "id": "uwEL7OgDEUx0",
    "outputId": "54238f90-4446-4313-bcde-62b78ece274c"
   },
   "outputs": [
    {
     "data": {
      "text/plain": [
       "['__add__',\n",
       " '__class__',\n",
       " '__class_getitem__',\n",
       " '__contains__',\n",
       " '__delattr__',\n",
       " '__delitem__',\n",
       " '__dir__',\n",
       " '__doc__',\n",
       " '__eq__',\n",
       " '__format__',\n",
       " '__ge__',\n",
       " '__getattribute__',\n",
       " '__getitem__',\n",
       " '__gt__',\n",
       " '__hash__',\n",
       " '__iadd__',\n",
       " '__imul__',\n",
       " '__init__',\n",
       " '__init_subclass__',\n",
       " '__iter__',\n",
       " '__le__',\n",
       " '__len__',\n",
       " '__lt__',\n",
       " '__mul__',\n",
       " '__ne__',\n",
       " '__new__',\n",
       " '__reduce__',\n",
       " '__reduce_ex__',\n",
       " '__repr__',\n",
       " '__reversed__',\n",
       " '__rmul__',\n",
       " '__setattr__',\n",
       " '__setitem__',\n",
       " '__sizeof__',\n",
       " '__str__',\n",
       " '__subclasshook__',\n",
       " 'append',\n",
       " 'clear',\n",
       " 'copy',\n",
       " 'count',\n",
       " 'extend',\n",
       " 'index',\n",
       " 'insert',\n",
       " 'pop',\n",
       " 'remove',\n",
       " 'reverse',\n",
       " 'sort']"
      ]
     },
     "execution_count": 35,
     "metadata": {},
     "output_type": "execute_result"
    }
   ],
   "source": [
    "x = [1,2,3]\n",
    "type(x)\n",
    "dir(x)\n"
   ]
  },
  {
   "cell_type": "code",
   "execution_count": null,
   "metadata": {
    "colab": {
     "base_uri": "https://localhost:8080/"
    },
    "id": "Mi6InsrWFBqa",
    "outputId": "cc2c4542-569a-47c4-b593-f16f5ee070f8"
   },
   "outputs": [
    {
     "name": "stdout",
     "output_type": "stream",
     "text": [
      "['book', 99]\n",
      "['book', 99, 'cookie']\n",
      "['book', 'cookie']\n"
     ]
    }
   ],
   "source": [
    "stuff = list()\n",
    "stuff.append('book') # adding element\n",
    "stuff.append(99)\n",
    "print(stuff)\n",
    "\n",
    "stuff.append('cookie')\n",
    "print(stuff)\n",
    "\n",
    "stuff.remove(99)\n",
    "print(stuff)"
   ]
  },
  {
   "cell_type": "code",
   "execution_count": null,
   "metadata": {
    "colab": {
     "base_uri": "https://localhost:8080/"
    },
    "id": "rKHg6BHHF1sL",
    "outputId": "baff571d-7ffc-4a69-a60c-5039302be28a"
   },
   "outputs": [
    {
     "data": {
      "text/plain": [
       "False"
      ]
     },
     "execution_count": 42,
     "metadata": {},
     "output_type": "execute_result"
    }
   ],
   "source": [
    "some = [1,9,21,10,16, \"string\"]\n",
    "9 in some  # conditional operator\n",
    "20 not in some\n",
    "15 in some\n",
    "\"strin\" in some"
   ]
  },
  {
   "cell_type": "code",
   "execution_count": null,
   "metadata": {
    "colab": {
     "base_uri": "https://localhost:8080/"
    },
    "id": "naDSrAAQHCTM",
    "outputId": "d9b13176-62f3-40f4-8398-c002d4fccfcb"
   },
   "outputs": [
    {
     "name": "stdout",
     "output_type": "stream",
     "text": [
      "['50', '99', 'Glenn', 'Joseph', 'Sally']\n",
      "99\n",
      "[1, 4, 41, 43, 320]\n"
     ]
    }
   ],
   "source": [
    "friends = ['Joseph','Glenn','Sally', \"99\", \"50\"]\n",
    "friends.sort() #alphabetically\n",
    "print(friends)\n",
    "print(friends[1])\n",
    "\n",
    "numbers = [1,43,4,41,320]\n",
    "numbers.sort()\n",
    "print(numbers)"
   ]
  },
  {
   "cell_type": "code",
   "execution_count": null,
   "metadata": {
    "colab": {
     "base_uri": "https://localhost:8080/"
    },
    "id": "23ednRqWIGjl",
    "outputId": "61c7a322-0e6f-4866-a5e1-d17ab0d176ee"
   },
   "outputs": [
    {
     "name": "stdout",
     "output_type": "stream",
     "text": [
      "6\n",
      "74\n",
      "3\n",
      "154\n",
      "25.666666666666668\n"
     ]
    }
   ],
   "source": [
    "nums = [3,41,12,9,74,15]\n",
    "print(len(nums))\n",
    "print(max(nums))\n",
    "print(min(nums))\n",
    "print(sum(nums))\n",
    "print(sum(nums)/len(nums))"
   ]
  },
  {
   "cell_type": "code",
   "execution_count": null,
   "metadata": {
    "colab": {
     "base_uri": "https://localhost:8080/"
    },
    "id": "12ovgi-fKw-4",
    "outputId": "7e750db1-c138-43ba-b925-ef38a060bcdc"
   },
   "outputs": [
    {
     "name": "stdout",
     "output_type": "stream",
     "text": [
      "['With', 'three', 'words']\n",
      "3\n",
      "With\n"
     ]
    }
   ],
   "source": [
    "abc = 'With three words'\n",
    "stuff = abc.split()\n",
    "print(stuff)\n",
    "print(len(stuff))\n",
    "print(stuff[0])"
   ]
  },
  {
   "cell_type": "code",
   "execution_count": null,
   "metadata": {
    "colab": {
     "base_uri": "https://localhost:8080/"
    },
    "id": "0tS-ntmQMc9X",
    "outputId": "49ea853b-46b6-4bab-c4a6-ed6184382052"
   },
   "outputs": [
    {
     "name": "stdout",
     "output_type": "stream",
     "text": [
      "['A', 'lot', 'of', 'spaces']\n",
      "['first;second;third']\n",
      "1\n",
      "[' first;second;third']\n",
      "1\n"
     ]
    }
   ],
   "source": [
    "line = 'A lot          of spaces'\n",
    "etc = line.split()\n",
    "print (etc)\n",
    "line = ' first;second;third'\n",
    "thing = line.split()\n",
    "print(thing)\n",
    "print(len(thing))\n",
    "\n",
    "thing = line.split(':')\n",
    "print(thing)\n",
    "print(len(thing))"
   ]
  }
 ],
 "metadata": {
  "colab": {
   "provenance": []
  },
  "kernelspec": {
   "display_name": "Python 3 (ipykernel)",
   "language": "python",
   "name": "python3"
  },
  "language_info": {
   "codemirror_mode": {
    "name": "ipython",
    "version": 3
   },
   "file_extension": ".py",
   "mimetype": "text/x-python",
   "name": "python",
   "nbconvert_exporter": "python",
   "pygments_lexer": "ipython3",
   "version": "3.11.4"
  }
 },
 "nbformat": 4,
 "nbformat_minor": 1
}
