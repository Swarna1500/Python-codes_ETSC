{
 "cells": [
  {
   "cell_type": "code",
   "execution_count": null,
   "metadata": {
    "colab": {
     "base_uri": "https://localhost:8080/"
    },
    "id": "BH1kw9n60fK_",
    "outputId": "069544d1-584f-4ffc-d62a-f6b66ba74bb1"
   },
   "outputs": [
    {
     "name": "stdout",
     "output_type": "stream",
     "text": [
      "Hello\n"
     ]
    }
   ],
   "source": [
    "print('Hello')"
   ]
  },
  {
   "cell_type": "code",
   "execution_count": null,
   "metadata": {
    "id": "OTrVgQxZ1tke"
   },
   "outputs": [],
   "source": [
    "#my second line"
   ]
  },
  {
   "cell_type": "code",
   "execution_count": null,
   "metadata": {
    "colab": {
     "base_uri": "https://localhost:8080/"
    },
    "id": "U5BWrXd62aO9",
    "outputId": "ddd8680c-1548-4780-e94b-8864d47ff5c4"
   },
   "outputs": [
    {
     "name": "stdout",
     "output_type": "stream",
     "text": [
      "Hello Swarnali\n",
      "<class 'str'>\n"
     ]
    }
   ],
   "source": [
    "s='Hello Swarnali'\n",
    "print(s)\n",
    "type (s) #type of character\n",
    "print(type(s)) #wipes off the previous type output"
   ]
  },
  {
   "cell_type": "code",
   "execution_count": null,
   "metadata": {
    "colab": {
     "base_uri": "https://localhost:8080/"
    },
    "id": "Z71Dus0I3Gfv",
    "outputId": "e421c66c-ca73-47c8-9aff-136739ffbf66"
   },
   "outputs": [
    {
     "data": {
      "text/plain": [
       "float"
      ]
     },
     "execution_count": 10,
     "metadata": {},
     "output_type": "execute_result"
    }
   ],
   "source": [
    "s=1.0\n",
    "type (s)\n",
    "#print(type(s))"
   ]
  },
  {
   "cell_type": "code",
   "execution_count": null,
   "metadata": {
    "colab": {
     "base_uri": "https://localhost:8080/"
    },
    "id": "aAYxDwBG34hd",
    "outputId": "c9d308b8-f64b-4e64-e2ab-4601b5b055bb"
   },
   "outputs": [
    {
     "name": "stdout",
     "output_type": "stream",
     "text": [
      "hello\n",
      "h e l l o 5\n",
      "hello world I am Swarnali\n"
     ]
    }
   ],
   "source": [
    "#2. string manipulation\n",
    "s=\"hello\"\n",
    "print (s)\n",
    "print (s[0], s[1], s[2], s[-2], s[-1], len(s))\n",
    "print (s+\" world\"+\" I am Swarnali\")"
   ]
  },
  {
   "cell_type": "code",
   "execution_count": null,
   "metadata": {
    "colab": {
     "base_uri": "https://localhost:8080/",
     "height": 229
    },
    "id": "V_v02YPN6O1M",
    "outputId": "0de4fb57-6cca-4639-8e1b-2eb772ed4955"
   },
   "outputs": [
    {
     "name": "stdout",
     "output_type": "stream",
     "text": [
      "Hello\n"
     ]
    },
    {
     "ename": "TypeError",
     "evalue": "ignored",
     "output_type": "error",
     "traceback": [
      "\u001b[0;31m---------------------------------------------------------------------------\u001b[0m",
      "\u001b[0;31mTypeError\u001b[0m                                 Traceback (most recent call last)",
      "\u001b[0;32m<ipython-input-24-5559ba58e4e7>\u001b[0m in \u001b[0;36m<cell line: 5>\u001b[0;34m()\u001b[0m\n\u001b[1;32m      3\u001b[0m \u001b[0mprint\u001b[0m\u001b[0;34m(\u001b[0m\u001b[0ms\u001b[0m\u001b[0;34m)\u001b[0m\u001b[0;34m\u001b[0m\u001b[0;34m\u001b[0m\u001b[0m\n\u001b[1;32m      4\u001b[0m \u001b[0mtype\u001b[0m\u001b[0;34m(\u001b[0m\u001b[0ms\u001b[0m\u001b[0;34m)\u001b[0m\u001b[0;34m\u001b[0m\u001b[0;34m\u001b[0m\u001b[0m\n\u001b[0;32m----> 5\u001b[0;31m \u001b[0ms\u001b[0m\u001b[0;34m[\u001b[0m\u001b[0;36m1\u001b[0m\u001b[0;34m]\u001b[0m\u001b[0;34m=\u001b[0m\u001b[0;34m'b'\u001b[0m \u001b[0;31m#Since s[1] is \"e\" so it cannot be b\u001b[0m\u001b[0;34m\u001b[0m\u001b[0;34m\u001b[0m\u001b[0m\n\u001b[0m",
      "\u001b[0;31mTypeError\u001b[0m: 'str' object does not support item assignment"
     ]
    }
   ],
   "source": [
    "# String is immutable\n",
    "s='Hello'\n",
    "print(s)\n",
    "type(s)\n",
    "s[1]='b' #error Since s[1] is \"e\" so it cannot be b"
   ]
  },
  {
   "cell_type": "code",
   "execution_count": null,
   "metadata": {
    "colab": {
     "base_uri": "https://localhost:8080/"
    },
    "id": "MyMLVExC7g9e",
    "outputId": "a9a6f198-7f96-497a-8f42-e7f48312b646"
   },
   "outputs": [
    {
     "name": "stdout",
     "output_type": "stream",
     "text": [
      "10\n",
      "hello10\n"
     ]
    }
   ],
   "source": [
    "# Strings and integer\n",
    "\n",
    "s=\"hello\"\n",
    "num=10\n",
    "print(num)\n",
    "#print (s+num) # error string cant be added to integer\n",
    "\n",
    "print (s + str ( num))"
   ]
  },
  {
   "cell_type": "code",
   "execution_count": null,
   "metadata": {
    "colab": {
     "base_uri": "https://localhost:8080/"
    },
    "id": "vo62qn668dfR",
    "outputId": "5c3b3626-4a7e-4914-b2f4-38e7af1028d7"
   },
   "outputs": [
    {
     "name": "stdout",
     "output_type": "stream",
     "text": [
      "10\n",
      "hello10\n"
     ]
    }
   ],
   "source": [
    "s=\"hello\"\n",
    "num=10\n",
    "print(num)\n",
    "t=str ( num)\n",
    "print(s+t)"
   ]
  },
  {
   "cell_type": "code",
   "execution_count": null,
   "metadata": {
    "colab": {
     "base_uri": "https://localhost:8080/",
     "height": 156
    },
    "id": "LtsRkbSV83hZ",
    "outputId": "1ccc0dc2-16b8-46d3-f435-b573dc5d37fc"
   },
   "outputs": [
    {
     "name": "stdout",
     "output_type": "stream",
     "text": [
      "hello\n",
      "HELLO\n",
      "Hello\n",
      "True\n",
      "False\n",
      "False\n",
      "old\n"
     ]
    },
    {
     "data": {
      "application/vnd.google.colaboratory.intrinsic+json": {
       "type": "string"
      },
      "text/plain": [
       "'a:b:c'"
      ]
     },
     "execution_count": 45,
     "metadata": {},
     "output_type": "execute_result"
    }
   ],
   "source": [
    "#5. String methods\n",
    "\n",
    "s =\"Hello\"\n",
    "print (str.lower(s))\n",
    "print (s.upper())\n",
    "print (str.strip(s))\n",
    "print (str.isalpha(s))\n",
    "print (str.isdigit(s))\n",
    "print (str.isspace(s))\n",
    "print(s.replace(s, 'old'))\n",
    "'a,b,c'.split(',')\n",
    "':'.join(['a','b','c'])"
   ]
  },
  {
   "cell_type": "code",
   "execution_count": null,
   "metadata": {
    "colab": {
     "base_uri": "https://localhost:8080/"
    },
    "id": "tFz954LJAozo",
    "outputId": "14bb88fa-eb4c-4ea6-982c-afa615e70e85"
   },
   "outputs": [
    {
     "name": "stdout",
     "output_type": "stream",
     "text": [
      "el\n",
      "\n",
      "\n",
      "ello\n",
      "\n",
      "\n",
      "el\n",
      "\n",
      "\n"
     ]
    }
   ],
   "source": [
    "s =\"Hello\"\n",
    "print(s[1:3])\n",
    "print('\\n')\n",
    "\n",
    "print(s[1:])\n",
    "print('\\n')\n",
    "print(s[-4:3])\n",
    "print('\\n')"
   ]
  },
  {
   "cell_type": "code",
   "execution_count": null,
   "metadata": {
    "colab": {
     "base_uri": "https://localhost:8080/"
    },
    "id": "epbzgEw0BBMY",
    "outputId": "55036d45-0755-43e6-b079-12fd9bcb061c"
   },
   "outputs": [
    {
     "name": "stdout",
     "output_type": "stream",
     "text": [
      "hello world, 10\n"
     ]
    }
   ],
   "source": [
    "#\n",
    "str1='hello %s, %d' % ('world', 10) #s for string d for integer\n",
    "print(str1)"
   ]
  },
  {
   "cell_type": "code",
   "execution_count": null,
   "metadata": {
    "colab": {
     "base_uri": "https://localhost:8080/"
    },
    "id": "audlSvZABPUO",
    "outputId": "697e1fb8-de40-4045-fca7-739a4a5444f6"
   },
   "outputs": [
    {
     "name": "stdout",
     "output_type": "stream",
     "text": [
      "Hello world, 10\n",
      "Hello hjj, 10\n",
      "Hello World     , 10.000\n"
     ]
    }
   ],
   "source": [
    "str2 = 'Hello {}, {}'. format('world',10)\n",
    "print(str2)\n",
    "str3 = 'Hello {wd}, {num}'. format(num=10,wd='hjj')\n",
    "print(str3)\n",
    "str4='Hello {wd:10}, {num:.3f}'.format(num=10.0, wd='World') # .3f float 3 decimals #wd:10 means 10 spaces\n",
    "print(str4)"
   ]
  },
  {
   "cell_type": "code",
   "execution_count": null,
   "metadata": {
    "colab": {
     "base_uri": "https://localhost:8080/"
    },
    "id": "fVBSsgocC1yK",
    "outputId": "860aa019-3978-41a6-d3d8-48758f733d86"
   },
   "outputs": [
    {
     "name": "stdout",
     "output_type": "stream",
     "text": [
      "num is smaller than 5\n",
      "num is smaller than 5\n"
     ]
    }
   ],
   "source": [
    "#If\n",
    "num = 4\n",
    "if num < 5:\n",
    "  print('num is smaller than 5')\n",
    "if num > 5:\n",
    "  print('num is greater than 5')\n",
    "elif num == 5:\n",
    "  print('num is 5')\n",
    "else:\n",
    "  print('num is smaller than 5')"
   ]
  },
  {
   "cell_type": "code",
   "execution_count": null,
   "metadata": {
    "colab": {
     "base_uri": "https://localhost:8080/"
    },
    "id": "VqvVZFQ2Djue",
    "outputId": "78961c22-be73-4737-e240-edf3b7f940cd"
   },
   "outputs": [
    {
     "name": "stdout",
     "output_type": "stream",
     "text": [
      "num is 5\n"
     ]
    }
   ],
   "source": [
    "num = 5\n",
    "if num < 5:\n",
    "  print('num is smaller than 5')\n",
    "if num > 5:\n",
    "  print('num is greater than 5')\n",
    "elif num == 5:\n",
    "  print('num is 5')\n",
    "else:\n",
    "  print('num is smaller than 5')"
   ]
  },
  {
   "cell_type": "code",
   "execution_count": null,
   "metadata": {
    "colab": {
     "base_uri": "https://localhost:8080/"
    },
    "id": "hG16UbuGDxPK",
    "outputId": "07c1216d-483a-47b7-b9b8-1f08d7b76aaf"
   },
   "outputs": [
    {
     "name": "stdout",
     "output_type": "stream",
     "text": [
      "<class 'int'>\n",
      "32\n",
      "-2\n",
      "-7.346410206643587e-06\n",
      "-0.9999999999730151\n",
      "0.5235987755982989\n",
      "1.4142135623730951\n"
     ]
    }
   ],
   "source": [
    "#Function Calls\n",
    "\n",
    "print(type(32))\n",
    "type(32)\n",
    "print(int(32))\n",
    "#int ('Hello')\n",
    "print(int(-2.8))\n",
    "import math\n",
    "print(math.sin(3.1416))\n",
    "print(math.cos(3.1416))\n",
    "print(math.asin(0.5))  #sin inverse\n",
    "print(math.sqrt(2))\n",
    "#help('math')"
   ]
  },
  {
   "cell_type": "code",
   "execution_count": null,
   "metadata": {
    "colab": {
     "base_uri": "https://localhost:8080/"
    },
    "id": "djURUcDTGElX",
    "outputId": "9846d266-6514-440b-d358-ecc7f43676d0"
   },
   "outputs": [
    {
     "name": "stdout",
     "output_type": "stream",
     "text": [
      "3.141592653589793\n"
     ]
    }
   ],
   "source": [
    "import numpy as np\n",
    "print(np.pi)"
   ]
  },
  {
   "cell_type": "code",
   "execution_count": null,
   "metadata": {
    "colab": {
     "base_uri": "https://localhost:8080/"
    },
    "id": "sWqnOmLUGYNi",
    "outputId": "59efeb70-7e73-4a97-a392-aff7bfb6c1c9"
   },
   "outputs": [
    {
     "name": "stdout",
     "output_type": "stream",
     "text": [
      "Help on built-in module math:\n",
      "\n",
      "NAME\n",
      "    math\n",
      "\n",
      "DESCRIPTION\n",
      "    This module provides access to the mathematical functions\n",
      "    defined by the C standard.\n",
      "\n",
      "FUNCTIONS\n",
      "    acos(x, /)\n",
      "        Return the arc cosine (measured in radians) of x.\n",
      "        \n",
      "        The result is between 0 and pi.\n",
      "    \n",
      "    acosh(x, /)\n",
      "        Return the inverse hyperbolic cosine of x.\n",
      "    \n",
      "    asin(x, /)\n",
      "        Return the arc sine (measured in radians) of x.\n",
      "        \n",
      "        The result is between -pi/2 and pi/2.\n",
      "    \n",
      "    asinh(x, /)\n",
      "        Return the inverse hyperbolic sine of x.\n",
      "    \n",
      "    atan(x, /)\n",
      "        Return the arc tangent (measured in radians) of x.\n",
      "        \n",
      "        The result is between -pi/2 and pi/2.\n",
      "    \n",
      "    atan2(y, x, /)\n",
      "        Return the arc tangent (measured in radians) of y/x.\n",
      "        \n",
      "        Unlike atan(y/x), the signs of both x and y are considered.\n",
      "    \n",
      "    atanh(x, /)\n",
      "        Return the inverse hyperbolic tangent of x.\n",
      "    \n",
      "    ceil(x, /)\n",
      "        Return the ceiling of x as an Integral.\n",
      "        \n",
      "        This is the smallest integer >= x.\n",
      "    \n",
      "    comb(n, k, /)\n",
      "        Number of ways to choose k items from n items without repetition and without order.\n",
      "        \n",
      "        Evaluates to n! / (k! * (n - k)!) when k <= n and evaluates\n",
      "        to zero when k > n.\n",
      "        \n",
      "        Also called the binomial coefficient because it is equivalent\n",
      "        to the coefficient of k-th term in polynomial expansion of the\n",
      "        expression (1 + x)**n.\n",
      "        \n",
      "        Raises TypeError if either of the arguments are not integers.\n",
      "        Raises ValueError if either of the arguments are negative.\n",
      "    \n",
      "    copysign(x, y, /)\n",
      "        Return a float with the magnitude (absolute value) of x but the sign of y.\n",
      "        \n",
      "        On platforms that support signed zeros, copysign(1.0, -0.0)\n",
      "        returns -1.0.\n",
      "    \n",
      "    cos(x, /)\n",
      "        Return the cosine of x (measured in radians).\n",
      "    \n",
      "    cosh(x, /)\n",
      "        Return the hyperbolic cosine of x.\n",
      "    \n",
      "    degrees(x, /)\n",
      "        Convert angle x from radians to degrees.\n",
      "    \n",
      "    dist(p, q, /)\n",
      "        Return the Euclidean distance between two points p and q.\n",
      "        \n",
      "        The points should be specified as sequences (or iterables) of\n",
      "        coordinates.  Both inputs must have the same dimension.\n",
      "        \n",
      "        Roughly equivalent to:\n",
      "            sqrt(sum((px - qx) ** 2.0 for px, qx in zip(p, q)))\n",
      "    \n",
      "    erf(x, /)\n",
      "        Error function at x.\n",
      "    \n",
      "    erfc(x, /)\n",
      "        Complementary error function at x.\n",
      "    \n",
      "    exp(x, /)\n",
      "        Return e raised to the power of x.\n",
      "    \n",
      "    expm1(x, /)\n",
      "        Return exp(x)-1.\n",
      "        \n",
      "        This function avoids the loss of precision involved in the direct evaluation of exp(x)-1 for small x.\n",
      "    \n",
      "    fabs(x, /)\n",
      "        Return the absolute value of the float x.\n",
      "    \n",
      "    factorial(x, /)\n",
      "        Find x!.\n",
      "        \n",
      "        Raise a ValueError if x is negative or non-integral.\n",
      "    \n",
      "    floor(x, /)\n",
      "        Return the floor of x as an Integral.\n",
      "        \n",
      "        This is the largest integer <= x.\n",
      "    \n",
      "    fmod(x, y, /)\n",
      "        Return fmod(x, y), according to platform C.\n",
      "        \n",
      "        x % y may differ.\n",
      "    \n",
      "    frexp(x, /)\n",
      "        Return the mantissa and exponent of x, as pair (m, e).\n",
      "        \n",
      "        m is a float and e is an int, such that x = m * 2.**e.\n",
      "        If x is 0, m and e are both 0.  Else 0.5 <= abs(m) < 1.0.\n",
      "    \n",
      "    fsum(seq, /)\n",
      "        Return an accurate floating point sum of values in the iterable seq.\n",
      "        \n",
      "        Assumes IEEE-754 floating point arithmetic.\n",
      "    \n",
      "    gamma(x, /)\n",
      "        Gamma function at x.\n",
      "    \n",
      "    gcd(*integers)\n",
      "        Greatest Common Divisor.\n",
      "    \n",
      "    hypot(...)\n",
      "        hypot(*coordinates) -> value\n",
      "        \n",
      "        Multidimensional Euclidean distance from the origin to a point.\n",
      "        \n",
      "        Roughly equivalent to:\n",
      "            sqrt(sum(x**2 for x in coordinates))\n",
      "        \n",
      "        For a two dimensional point (x, y), gives the hypotenuse\n",
      "        using the Pythagorean theorem:  sqrt(x*x + y*y).\n",
      "        \n",
      "        For example, the hypotenuse of a 3/4/5 right triangle is:\n",
      "        \n",
      "            >>> hypot(3.0, 4.0)\n",
      "            5.0\n",
      "    \n",
      "    isclose(a, b, *, rel_tol=1e-09, abs_tol=0.0)\n",
      "        Determine whether two floating point numbers are close in value.\n",
      "        \n",
      "          rel_tol\n",
      "            maximum difference for being considered \"close\", relative to the\n",
      "            magnitude of the input values\n",
      "          abs_tol\n",
      "            maximum difference for being considered \"close\", regardless of the\n",
      "            magnitude of the input values\n",
      "        \n",
      "        Return True if a is close in value to b, and False otherwise.\n",
      "        \n",
      "        For the values to be considered close, the difference between them\n",
      "        must be smaller than at least one of the tolerances.\n",
      "        \n",
      "        -inf, inf and NaN behave similarly to the IEEE 754 Standard.  That\n",
      "        is, NaN is not close to anything, even itself.  inf and -inf are\n",
      "        only close to themselves.\n",
      "    \n",
      "    isfinite(x, /)\n",
      "        Return True if x is neither an infinity nor a NaN, and False otherwise.\n",
      "    \n",
      "    isinf(x, /)\n",
      "        Return True if x is a positive or negative infinity, and False otherwise.\n",
      "    \n",
      "    isnan(x, /)\n",
      "        Return True if x is a NaN (not a number), and False otherwise.\n",
      "    \n",
      "    isqrt(n, /)\n",
      "        Return the integer part of the square root of the input.\n",
      "    \n",
      "    lcm(*integers)\n",
      "        Least Common Multiple.\n",
      "    \n",
      "    ldexp(x, i, /)\n",
      "        Return x * (2**i).\n",
      "        \n",
      "        This is essentially the inverse of frexp().\n",
      "    \n",
      "    lgamma(x, /)\n",
      "        Natural logarithm of absolute value of Gamma function at x.\n",
      "    \n",
      "    log(...)\n",
      "        log(x, [base=math.e])\n",
      "        Return the logarithm of x to the given base.\n",
      "        \n",
      "        If the base not specified, returns the natural logarithm (base e) of x.\n",
      "    \n",
      "    log10(x, /)\n",
      "        Return the base 10 logarithm of x.\n",
      "    \n",
      "    log1p(x, /)\n",
      "        Return the natural logarithm of 1+x (base e).\n",
      "        \n",
      "        The result is computed in a way which is accurate for x near zero.\n",
      "    \n",
      "    log2(x, /)\n",
      "        Return the base 2 logarithm of x.\n",
      "    \n",
      "    modf(x, /)\n",
      "        Return the fractional and integer parts of x.\n",
      "        \n",
      "        Both results carry the sign of x and are floats.\n",
      "    \n",
      "    nextafter(x, y, /)\n",
      "        Return the next floating-point value after x towards y.\n",
      "    \n",
      "    perm(n, k=None, /)\n",
      "        Number of ways to choose k items from n items without repetition and with order.\n",
      "        \n",
      "        Evaluates to n! / (n - k)! when k <= n and evaluates\n",
      "        to zero when k > n.\n",
      "        \n",
      "        If k is not specified or is None, then k defaults to n\n",
      "        and the function returns n!.\n",
      "        \n",
      "        Raises TypeError if either of the arguments are not integers.\n",
      "        Raises ValueError if either of the arguments are negative.\n",
      "    \n",
      "    pow(x, y, /)\n",
      "        Return x**y (x to the power of y).\n",
      "    \n",
      "    prod(iterable, /, *, start=1)\n",
      "        Calculate the product of all the elements in the input iterable.\n",
      "        \n",
      "        The default start value for the product is 1.\n",
      "        \n",
      "        When the iterable is empty, return the start value.  This function is\n",
      "        intended specifically for use with numeric values and may reject\n",
      "        non-numeric types.\n",
      "    \n",
      "    radians(x, /)\n",
      "        Convert angle x from degrees to radians.\n",
      "    \n",
      "    remainder(x, y, /)\n",
      "        Difference between x and the closest integer multiple of y.\n",
      "        \n",
      "        Return x - n*y where n*y is the closest integer multiple of y.\n",
      "        In the case where x is exactly halfway between two multiples of\n",
      "        y, the nearest even value of n is used. The result is always exact.\n",
      "    \n",
      "    sin(x, /)\n",
      "        Return the sine of x (measured in radians).\n",
      "    \n",
      "    sinh(x, /)\n",
      "        Return the hyperbolic sine of x.\n",
      "    \n",
      "    sqrt(x, /)\n",
      "        Return the square root of x.\n",
      "    \n",
      "    tan(x, /)\n",
      "        Return the tangent of x (measured in radians).\n",
      "    \n",
      "    tanh(x, /)\n",
      "        Return the hyperbolic tangent of x.\n",
      "    \n",
      "    trunc(x, /)\n",
      "        Truncates the Real x to the nearest Integral toward 0.\n",
      "        \n",
      "        Uses the __trunc__ magic method.\n",
      "    \n",
      "    ulp(x, /)\n",
      "        Return the value of the least significant bit of the float x.\n",
      "\n",
      "DATA\n",
      "    e = 2.718281828459045\n",
      "    inf = inf\n",
      "    nan = nan\n",
      "    pi = 3.141592653589793\n",
      "    tau = 6.283185307179586\n",
      "\n",
      "FILE\n",
      "    (built-in)\n",
      "\n",
      "\n"
     ]
    }
   ],
   "source": [
    "help('math')"
   ]
  },
  {
   "cell_type": "code",
   "execution_count": null,
   "metadata": {
    "colab": {
     "base_uri": "https://localhost:8080/"
    },
    "id": "sSGaYMB3Gusl",
    "outputId": "13f7d1c6-e815-4363-b4a7-f03ad7ac34f6"
   },
   "outputs": [
    {
     "name": "stdout",
     "output_type": "stream",
     "text": [
      "4\n",
      "6\n",
      "3\n"
     ]
    }
   ],
   "source": [
    "print (math.ceil(3.2))\n",
    "print (math.comb(6, 5))\n",
    "print (math.floor(3.2))"
   ]
  },
  {
   "cell_type": "code",
   "execution_count": null,
   "metadata": {
    "colab": {
     "base_uri": "https://localhost:8080/"
    },
    "id": "svvVGwwNGumw",
    "outputId": "5f21aa0f-08e6-41b1-8297-8e0e46f2f382"
   },
   "outputs": [
    {
     "name": "stdout",
     "output_type": "stream",
     "text": [
      "I am Swarnali\n",
      "yay\n"
     ]
    }
   ],
   "source": [
    "# def function\n",
    "def name():\n",
    "  print(\"I am Swarnali\")\n",
    "  print(\"yay\")\n",
    "name()"
   ]
  },
  {
   "cell_type": "code",
   "execution_count": null,
   "metadata": {
    "colab": {
     "base_uri": "https://localhost:8080/"
    },
    "id": "dS8TDX8OIJtj",
    "outputId": "e161d61e-d7d8-4cfd-b923-303c98d05f7e"
   },
   "outputs": [
    {
     "name": "stdout",
     "output_type": "stream",
     "text": [
      "3.141592653589793\n",
      "3.141592653589793\n",
      "SpamSpamSpamSpam\n",
      "SpamSpamSpamSpam\n"
     ]
    }
   ],
   "source": [
    "# Function parameters and arguments\n",
    "\n",
    "def print_twice(arg1):\n",
    "  print(arg1)\n",
    "  print(arg1)\n",
    "\n",
    "print_twice(math.pi)\n",
    "print_twice('Spam' *4)"
   ]
  },
  {
   "cell_type": "code",
   "execution_count": null,
   "metadata": {
    "colab": {
     "base_uri": "https://localhost:8080/"
    },
    "id": "LOCUQTNmI5sw",
    "outputId": "29824118-8c33-4b35-f740-017955ba3faa"
   },
   "outputs": [
    {
     "name": "stdout",
     "output_type": "stream",
     "text": [
      "Bing\n",
      "Bing\n",
      "None\n"
     ]
    }
   ],
   "source": [
    "#Function returns\n",
    "def print_twice(arg1):\n",
    "  print(arg1)\n",
    "  print(arg1)\n",
    "\n",
    "result = print_twice('Bing')\n",
    "print(result) #Gives none since we do not return anything in the function"
   ]
  },
  {
   "cell_type": "code",
   "execution_count": null,
   "metadata": {
    "colab": {
     "base_uri": "https://localhost:8080/"
    },
    "id": "ljJLYznOJvB_",
    "outputId": "0732e6e9-a078-4a00-82b7-7a1ab5035f06"
   },
   "outputs": [
    {
     "name": "stdout",
     "output_type": "stream",
     "text": [
      "Bing\n",
      " S\n",
      "Bing\n",
      " S\n"
     ]
    }
   ],
   "source": [
    "def print_twice(arg1,arg2):\n",
    "  print(arg1)\n",
    "  print(arg2)\n",
    "  return arg1,arg2\n",
    "res1, res2 = print_twice('Bing',' S')\n",
    "print(res1)\n",
    "print(res2)"
   ]
  },
  {
   "cell_type": "code",
   "execution_count": null,
   "metadata": {
    "colab": {
     "base_uri": "https://localhost:8080/"
    },
    "id": "pfMEG61rKFUV",
    "outputId": "f5b2525c-9540-4d6d-a5b0-8b84034b22bd"
   },
   "outputs": [
    {
     "name": "stdout",
     "output_type": "stream",
     "text": [
      "<module 'math' (built-in)>\n",
      "3.141592653589793\n"
     ]
    }
   ],
   "source": [
    "# Importing with 'from' function\n",
    "\n",
    "import math\n",
    "print (math)\n",
    "print (math.pi)\n",
    "#print(pi)"
   ]
  },
  {
   "cell_type": "code",
   "execution_count": null,
   "metadata": {
    "colab": {
     "base_uri": "https://localhost:8080/"
    },
    "id": "ORF8KwL2L6Ma",
    "outputId": "706cf1ef-39eb-4943-eda5-858519a24530"
   },
   "outputs": [
    {
     "data": {
      "text/plain": [
       "120"
      ]
     },
     "execution_count": 111,
     "metadata": {},
     "output_type": "execute_result"
    }
   ],
   "source": [
    "def factorial (n):\n",
    "  if not isinstance(n, int):\n",
    "    print('Factorial is only defined for integers.')\n",
    "    return None\n",
    "  elif n < 0:\n",
    "    print('negative')\n",
    "    return None\n",
    "\n",
    "  elif n==0:\n",
    "    return 1\n",
    "\n",
    "  else:\n",
    "    return n*factorial(n-1) # Recursively\n",
    "\n",
    "factorial(5)"
   ]
  },
  {
   "cell_type": "code",
   "execution_count": null,
   "metadata": {
    "colab": {
     "base_uri": "https://localhost:8080/"
    },
    "id": "1FxFiWLtM74G",
    "outputId": "b98d74a8-328c-496a-d3d3-15d91929bf50"
   },
   "outputs": [
    {
     "name": "stdout",
     "output_type": "stream",
     "text": [
      "hello\n",
      "hello world\n"
     ]
    }
   ],
   "source": [
    "#Default arguments\n",
    "\n",
    "def func1(arg1,arg2=None):\n",
    "  if arg2 is None:\n",
    "    print(arg1)\n",
    "  else:\n",
    "    print(arg1,arg2)\n",
    "func1('hello')\n",
    "\n",
    "func1('hello', 'world')"
   ]
  },
  {
   "cell_type": "code",
   "execution_count": null,
   "metadata": {
    "colab": {
     "base_uri": "https://localhost:8080/"
    },
    "id": "h9RixvItSOc_",
    "outputId": "9890ec45-6541-41ae-e7f9-82cf670a9203"
   },
   "outputs": [
    {
     "data": {
      "text/plain": [
       "10"
      ]
     },
     "execution_count": 128,
     "metadata": {},
     "output_type": "execute_result"
    }
   ],
   "source": [
    "# Global loacl variables\n",
    "\n",
    "global_var = 10\n",
    "\n",
    "def func1():\n",
    "    global_var = 100\n",
    "func1()\n",
    "\n",
    "\n",
    "global_var"
   ]
  },
  {
   "cell_type": "code",
   "execution_count": null,
   "metadata": {
    "colab": {
     "base_uri": "https://localhost:8080/"
    },
    "id": "dMWHIFAkTAbz",
    "outputId": "f585249a-dbc7-4fd8-9e53-3bb4a54a376e"
   },
   "outputs": [
    {
     "data": {
      "text/plain": [
       "3"
      ]
     },
     "execution_count": 129,
     "metadata": {},
     "output_type": "execute_result"
    }
   ],
   "source": [
    "global_var = 1\n",
    "def func2():\n",
    "  global global_var\n",
    "  global_var = 3\n",
    "\n",
    "func2()\n",
    "global_var"
   ]
  },
  {
   "cell_type": "code",
   "execution_count": null,
   "metadata": {
    "colab": {
     "base_uri": "https://localhost:8080/"
    },
    "id": "t2SHl7j2Tfdu",
    "outputId": "e984e114-1b98-48fb-cd1b-d5e81ab5c3e5"
   },
   "outputs": [
    {
     "name": "stdout",
     "output_type": "stream",
     "text": [
      "Hypo c= 5.385164807134504\n",
      "square root d = 2.320595787106084\n",
      "0.8418239574966185\n",
      "12.496790764308276\n",
      "2.3205957871060834\n",
      "-1.917848549326277\n"
     ]
    },
    {
     "data": {
      "text/plain": [
       "2"
      ]
     },
     "execution_count": 135,
     "metadata": {},
     "output_type": "execute_result"
    }
   ],
   "source": [
    "a=2;\n",
    "b=5;\n",
    "c=(a**2+b**2)**(0.5);\n",
    "d=math.sqrt(c)\n",
    "print('Hypo c=' , c)\n",
    "print ('square root d =' , d)\n",
    "e = math.log(d)\n",
    "print(e)\n",
    "f=c*d\n",
    "g=c/d\n",
    "print(f)\n",
    "print(g)\n",
    "h=a*math.sin(b)\n",
    "print(h)\n",
    "u=int(d)\n",
    "factorial(u)"
   ]
  },
  {
   "cell_type": "code",
   "execution_count": null,
   "metadata": {
    "colab": {
     "base_uri": "https://localhost:8080/"
    },
    "id": "xaBXeB2lVU3P",
    "outputId": "8dff4c48-932f-43a9-86bd-c8e19dfa90c1"
   },
   "outputs": [
    {
     "name": "stdout",
     "output_type": "stream",
     "text": [
      "[[-1.5  1.  -0.5]\n",
      " [ 0.5 -0.5  1. ]\n",
      " [ 0.5 -0.  -0.5]]\n",
      "\n",
      " M1= [[1 2 3]\n",
      " [3 4 5]\n",
      " [1 2 1]]\n"
     ]
    }
   ],
   "source": [
    "# Matrices\n",
    "\n",
    "from scipy import *\n",
    "from numpy import *\n",
    "\n",
    "M1=array([[1,2,3],[3,4,5],[1,2,1]])\n",
    "#M2=array([[0,1,2],[3,4,5],[7,8,9]])\n",
    "\n",
    "#M3=M1*M2 # element wise multiplication\n",
    "#M4=array([[1],[2],[3]])\n",
    "#M5=M1*M4\n",
    "print(np.linalg.inv(M1))\n",
    "print('\\n M1=', M1)\n",
    "#print('\\n M4=', M4)\n",
    "#print('\\n M5=', M5)"
   ]
  }
 ],
 "metadata": {
  "colab": {
   "provenance": []
  },
  "kernelspec": {
   "display_name": "Python 3 (ipykernel)",
   "language": "python",
   "name": "python3"
  },
  "language_info": {
   "codemirror_mode": {
    "name": "ipython",
    "version": 3
   },
   "file_extension": ".py",
   "mimetype": "text/x-python",
   "name": "python",
   "nbconvert_exporter": "python",
   "pygments_lexer": "ipython3",
   "version": "3.11.4"
  }
 },
 "nbformat": 4,
 "nbformat_minor": 1
}
